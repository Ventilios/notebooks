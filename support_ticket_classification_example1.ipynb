{
  "cells": [
    {
      "cell_type": "code",
      "execution_count": null,
      "metadata": {
        "gather": {
          "logged": 1738160201223
        }
      },
      "outputs": [],
      "source": [
        "pip install openai"
      ]
    },
    {
      "cell_type": "code",
      "execution_count": 1,
      "metadata": {
        "gather": {
          "logged": 1738325409935
        }
      },
      "outputs": [],
      "source": [
        "# Setup\n",
        "from azure.identity import DefaultAzureCredential, get_bearer_token_provider\n",
        "from openai import AzureOpenAI\n",
        "\n",
        "# Using User Managed Identity client id\n",
        "# https://learn.microsoft.com/en-us/python/api/overview/azure/identity-readme?view=azure-python#managed-identity-support\n",
        "client_id = \"<client_id>\"\n",
        "\n",
        "# Azure Open AI endpoint URL\n",
        "endpoint_url = \"<endpoint_url>\"\n",
        "\n",
        "# Azure Open AI model deployment name\n",
        "model_deployment_name = \"gpt-4o-mini\""
      ]
    },
    {
      "cell_type": "markdown",
      "metadata": {
        "nteract": {
          "transient": {
            "deleting": false
          }
        }
      },
      "source": [
        "#### Set of sample tickets"
      ]
    },
    {
      "cell_type": "code",
      "execution_count": 33,
      "metadata": {
        "gather": {
          "logged": 1738178190302
        }
      },
      "outputs": [],
      "source": [
        "support_ticket_1 = \"\"\"Subject: Unable to Access Work Email Account\n",
        "Description:\n",
        "Hi IT Team,\n",
        "I’ve been trying to log into my work email account since this morning and I keep getting a “password incorrect” error. I’m 100% sure I’m using the correct password. I even reset it once, and the new password doesn’t work either. Could you please check if something is wrong with my account?\n",
        "\"\"\".strip()\n",
        "\n",
        "support_ticket_2 = \"\"\"Subject: Error Message in Project Management Application\n",
        "Description:\n",
        "Hello Support,\n",
        "Every time I open the Project Management desktop app, I get an error that says “Unable to connect to server.” I’ve tried restarting my computer, and my internet connection is fine. I also tested another coworker’s laptop using my login, and it worked there. It might be specific to my machine.\"\"\".strip()\n",
        "\n",
        "support_ticket_3 = \"\"\"Subject: Frequent VPN Disconnections\n",
        "Description:\n",
        "Hello,\n",
        "My VPN connection drops randomly multiple times a day. It reconnects automatically, but it disrupts my remote desktop sessions. Is there an update or a known issue with the VPN? Could you look into possible network stability problems?\"\"\"\n",
        "\n",
        "support_ticket_4 = \"\"\"Subject: Magical Story \n",
        "Description: A long, long time ago a little boy was walking through a park. In the middle of the park there was a tree with a sign on it. The sign said \"I am a magic tree. Say the magic words and you will see.\"\n",
        "The boy tried to guess the magic words. He tried abracadabra, supercalifragilisticexpialidocious, ta-ta-ra, and many more... but none of them worked.\"\"\"\n",
        "\n",
        "support_ticket_5 = \"\"\"Subject: Het werkt allemaal niet....\n",
        "Description: Het papier loopt weer vast. We kunnen zo echt ons werkt niet doen. Kom onmiddelijk helpen!!!!\"\"\" "
      ]
    },
    {
      "cell_type": "markdown",
      "metadata": {
        "nteract": {
          "transient": {
            "deleting": false
          }
        }
      },
      "source": [
        "#### Define system prompt"
      ]
    },
    {
      "cell_type": "code",
      "execution_count": 34,
      "metadata": {
        "gather": {
          "logged": 1738178192194
        }
      },
      "outputs": [],
      "source": [
        "system_prompt = '''\n",
        "You are an Expert Technical Support Operator classifying support tickets. These tickets can be in English or Dutch.\n",
        "Give me an output using the following JSON format with four fields:\n",
        "{\n",
        "  \"category\": \"CATEGORY\",\n",
        "  \"ticket_priority\": \"TICKETPRIORITY\",\n",
        "  \"sentiment\": \"SENTIMENT\",\n",
        "  \"summary\": \"SUMMARY\"\n",
        "}\n",
        "Return one CATEGORY from the list below based on the provided subject and description text.\n",
        "If there is no matching CATEGORY, classify it as Unknown.\n",
        "CATEGORY:\n",
        "- Software Issues\n",
        "- Account Issues\n",
        "- Hardware Issues\n",
        "- Connectivity Issues\n",
        "- Security Issues\n",
        "- Data Issues\n",
        "Return one SENTIMENT that fits the provided subject and description text. \n",
        "If there is no matching SENTIMENT, classify it as Unknown.\n",
        "SENTIMENT: \n",
        "- Angry\n",
        "- Frustrated\n",
        "- Neutral\n",
        "- Satisfied\n",
        "- Unknown\n",
        "Return one TICKETPRIORITY that fits the provided subject and description text.\n",
        "If there is no matching TICKETPRIORITY, classify it as Unknown.\n",
        "TICKETPRIORITY:\n",
        "- Low\n",
        "- Medium\n",
        "- High\n",
        "- Critical\n",
        "- Unknown\"\n",
        "SUMMARY:\n",
        "Provide a short SUMMARY of 1 line maximum. \n",
        "'''"
      ]
    },
    {
      "cell_type": "code",
      "execution_count": 35,
      "metadata": {
        "gather": {
          "logged": 1738178193945
        }
      },
      "outputs": [],
      "source": [
        "token_provider = get_bearer_token_provider(\n",
        "    DefaultAzureCredential(managed_identity_client_id=client_id), \"https://cognitiveservices.azure.com/.default\"\n",
        ")\n",
        "\n",
        "client = AzureOpenAI(\n",
        "    api_version=\"2024-08-01-preview\",\n",
        "    azure_endpoint=endpoint_url,\n",
        "    azure_ad_token_provider=token_provider\n",
        ")\n",
        "\n",
        "def classify_ticket(ticket_text: str):\n",
        "    response = client.chat.completions.create(\n",
        "        model=model_deployment_name,\n",
        "        messages=[\n",
        "            {\"role\": \"system\", \"content\": system_prompt},\n",
        "            {\"role\": \"user\", \"content\": ticket_text},\n",
        "        ]\n",
        "    )\n",
        "    return response"
      ]
    },
    {
      "cell_type": "code",
      "execution_count": 19,
      "metadata": {
        "gather": {
          "logged": 1738327264879
        }
      },
      "outputs": [
        {
          "name": "stdout",
          "output_type": "stream",
          "text": [
            "{\n",
            "  \"category\": \"Account Issues\",\n",
            "  \"ticket_priority\": \"High\",\n",
            "  \"sentiment\": \"Frustrated\",\n",
            "  \"summary\": \"User unable to access work email account despite correct password.\"\n",
            "}\n",
            "{\n",
            "  \"category\": \"Connectivity Issues\",\n",
            "  \"ticket_priority\": \"High\",\n",
            "  \"sentiment\": \"Frustrated\",\n",
            "  \"summary\": \"User experiences connection error in Project Management app.\"\n",
            "}\n",
            "{\n",
            "  \"category\": \"Connectivity Issues\",\n",
            "  \"ticket_priority\": \"Medium\",\n",
            "  \"sentiment\": \"Frustrated\",\n",
            "  \"summary\": \"User experiences frequent VPN disconnections affecting remote desktop sessions.\"\n",
            "}\n",
            "{\n",
            "  \"category\": \"Unknown\",\n",
            "  \"ticket_priority\": \"Unknown\",\n",
            "  \"sentiment\": \"Neutral\",\n",
            "  \"summary\": \"A story about a boy and a magic tree.\"\n",
            "}\n",
            "{\n",
            "  \"category\": \"Hardware Issues\",\n",
            "  \"ticket_priority\": \"Critical\",\n",
            "  \"sentiment\": \"Angry\",\n",
            "  \"summary\": \"Papier vastloopprobleem leidt tot ernstige hinder voor het werk.\"\n",
            "}\n"
          ]
        }
      ],
      "source": [
        "result1 = classify_ticket(support_ticket_1)\n",
        "result2 = classify_ticket(support_ticket_2)\n",
        "result3 = classify_ticket(support_ticket_3)\n",
        "result4 = classify_ticket(support_ticket_4)\n",
        "result5 = classify_ticket(support_ticket_5)\n",
        "\n",
        "print(result1.choices[0].message.content)\n",
        "print(result2.choices[0].message.content)\n",
        "print(result3.choices[0].message.content)\n",
        "print(result4.choices[0].message.content)\n",
        "print(result5.choices[0].message.content)"
      ]
    }
  ],
  "metadata": {
    "kernel_info": {
      "name": "python310-sdkv2"
    },
    "kernelspec": {
      "display_name": "Python 3.10 - SDK v2",
      "language": "python",
      "name": "python310-sdkv2"
    },
    "language_info": {
      "codemirror_mode": {
        "name": "ipython",
        "version": 3
      },
      "file_extension": ".py",
      "mimetype": "text/x-python",
      "name": "python",
      "nbconvert_exporter": "python",
      "pygments_lexer": "ipython3",
      "version": "3.10.14"
    },
    "microsoft": {
      "host": {
        "AzureML": {
          "notebookHasBeenCompleted": true
        }
      },
      "ms_spell_check": {
        "ms_spell_check_language": "en"
      }
    },
    "nteract": {
      "version": "nteract-front-end@1.0.0"
    }
  },
  "nbformat": 4,
  "nbformat_minor": 2
}
