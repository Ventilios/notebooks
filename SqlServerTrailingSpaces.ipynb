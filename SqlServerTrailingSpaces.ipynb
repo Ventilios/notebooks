{
    "metadata": {
        "kernelspec": {
            "name": "SQL",
            "display_name": "SQL",
            "language": "sql"
        },
        "language_info": {
            "name": "sql",
            "version": ""
        }
    },
    "nbformat_minor": 2,
    "nbformat": 4,
    "cells": [
        {
            "cell_type": "markdown",
            "source": [
                "## **SQL Server Trailing Spaces**\n",
                "\n",
                "- Comparison of values: _The ANSI standard requires padding for the character strings used in comparisons so that their lengths match before comparing them. The padding directly affects the semantics of WHERE and HAVING clause predicates and other Transact-SQL string comparisons. For example, Transact-SQL considers the strings 'abc' and 'abc ' to be equivalent for most comparison operations._ - [INF: How SQL Server Compares Strings with Trailing Spaces (microsoft.com)](https://support.microsoft.com/en-us/topic/inf-how-sql-server-compares-strings-with-trailing-spaces-b62b1a2d-27d3-4260-216d-a605719003b0)\n",
                "- Related to identifiers in SQL Server: _According to SQL Server, an identifier with trailing spaces is considered equivalent to the same identifier with those spaces removed. -_ [SQL Server Ignores Trailing Spaces In Identifiers | Michael J. Swart (michaeljswart.com)](https://michaeljswart.com/2014/09/sql-server-ignores-trailing-spaces-in-identifiers/)\n",
                "- Keeping trailing spaces is controlled with SET ANSI\\_PADDING: _If a value is being loaded into columns with a char, varchar, or varbinary data type, the padding or truncation of trailing blanks (spaces for char and varchar, zeros for varbinary) is determined by the SET ANSI\\_PADDING setting defined for the column when the table was created. -_ [INSERT (Transact-SQL) - SQL Server | Microsoft Docs](https://docs.microsoft.com/en-us/sql/t-sql/statements/insert-transact-sql?view=sql-server-ver15#data-types)\n",
                "- However, inserting data that is only differentiated by trailing spaces will fail when inserting into a column that enforces uniqueness: _An insertion into a column whose values must be unique will fail if you supply a value that is differentiated from existing values by trailing spaces only. The following strings will all be considered equivalent by a unique constraint, primary key, or unique index. Likewise, if you have an existing table with the data below and try to add a unique restriction, it will fail because the values are considered identical. -_ [Microsoft KB Archive/231830 - BetaArchive Wiki](https://www.betaarchive.com/wiki/index.php/Microsoft_KB_Archive/231830)\n",
                "- Oracle versus SQL Server behavior: _In Oracle, values in primary key columns of type VARCHAR2 and NVARCHAR2 may differ only in trailing spaces. Oracle treats such values as not equal and allows you to use them as different primary keys. -_ [Trailing Spaces in PRIMARY KEY Columns - Oracle to SQL Server Migration - SQLines Tools](https://www.sqlines.com/oracle/trailing_spaces_pk_columns)"
            ],
            "metadata": {
                "azdata_cell_guid": "b6411094-025e-4f4c-a208-383f7deae3d6"
            },
            "attachments": {}
        },
        {
            "cell_type": "markdown",
            "source": [
                "### **Setup a table**"
            ],
            "metadata": {
                "azdata_cell_guid": "14fbf8e6-9bc4-4050-bce3-07b269119639"
            },
            "attachments": {}
        },
        {
            "cell_type": "code",
            "source": [
                "DROP TABLE IF EXISTS [dbo].[testcustomertable]\r\n",
                "GO\r\n",
                "\r\n",
                "CREATE TABLE [dbo].[testcustomertable](\r\n",
                "\t[customerid] [bigint] NOT NULL,\r\n",
                "\t[customercode] [varchar](10) NOT NULL,\r\n",
                "    [salespersoncode] [varchar](10) NOT NULL,\r\n",
                "    [companyname] varchar(128) NOT NULL,\r\n",
                "\t[title] [varchar](8) NULL default('titlex'),\r\n",
                "\t[firstname] [nvarchar](64) NULL default('testfirstname'),\r\n",
                "\t[LastName] [nvarchar](64) NULL default('testlastname')\r\n",
                ") "
            ],
            "metadata": {
                "azdata_cell_guid": "30703240-9ba9-4f44-abab-5199409e45fa",
                "language": "sql"
            },
            "outputs": [
                {
                    "output_type": "display_data",
                    "data": {
                        "text/html": "Commands completed successfully."
                    },
                    "metadata": {}
                },
                {
                    "output_type": "display_data",
                    "data": {
                        "text/html": "Commands completed successfully."
                    },
                    "metadata": {}
                },
                {
                    "output_type": "display_data",
                    "data": {
                        "text/html": "Total execution time: 00:00:00.074"
                    },
                    "metadata": {}
                }
            ],
            "execution_count": 28
        },
        {
            "cell_type": "markdown",
            "source": [
                "### **Insert a row with a unique combination**\n",
                "\n",
                "Insert #2 will contain _companyname_ with three trailing spaces."
            ],
            "metadata": {
                "azdata_cell_guid": "7ec0ac8c-5449-4966-9c0b-f451b51793ec"
            },
            "attachments": {}
        },
        {
            "cell_type": "code",
            "source": [
                "-- #1\r\n",
                "INSERT INTO [dbo].[testcustomertable](\r\n",
                "    [customerid],\r\n",
                "    [customercode],\r\n",
                "    [salespersoncode],\r\n",
                "    [companyname]\r\n",
                ") VALUES (\r\n",
                "    1,\r\n",
                "    'custcode1',\r\n",
                "    'salescode1',\r\n",
                "    'companytest'\r\n",
                ");\r\n",
                "\r\n",
                "-- #2\r\n",
                "INSERT INTO [dbo].[testcustomertable](\r\n",
                "    [customerid],\r\n",
                "    [customercode],\r\n",
                "    [salespersoncode],\r\n",
                "    [companyname]\r\n",
                ") VALUES (\r\n",
                "    1,\r\n",
                "    'custcode1',\r\n",
                "    'salescode1',\r\n",
                "    'companytest   '\r\n",
                ");"
            ],
            "metadata": {
                "azdata_cell_guid": "415117c3-665c-459b-9551-a7b08e6eb3a4",
                "language": "sql"
            },
            "outputs": [
                {
                    "output_type": "display_data",
                    "data": {
                        "text/html": "(1 row affected)"
                    },
                    "metadata": {}
                },
                {
                    "output_type": "display_data",
                    "data": {
                        "text/html": "(1 row affected)"
                    },
                    "metadata": {}
                },
                {
                    "output_type": "display_data",
                    "data": {
                        "text/html": "Total execution time: 00:00:00.045"
                    },
                    "metadata": {}
                }
            ],
            "execution_count": 6
        },
        {
            "cell_type": "markdown",
            "source": [
                "### **Review data**\n",
                "\n",
                "LEN versus DATALENGTH - [LEN (Transact-SQL) - SQL Server | Microsoft Docs](https://docs.microsoft.com/en-us/sql/t-sql/functions/len-transact-sql?view=sql-server-ver15#remarks) - _LEN excludes trailing spaces. If that is a problem, consider using the DATALENGTH (Transact-SQL) function which does not trim the string. If processing a unicode string, DATALENGTH will return a number that may not be equal to the number of characters._"
            ],
            "metadata": {
                "azdata_cell_guid": "d838ff2f-d058-47e9-bb8f-dffb2cbe5aa0"
            },
            "attachments": {}
        },
        {
            "cell_type": "code",
            "source": [
                "SELECT \r\n",
                "    [customerid],\r\n",
                "    [customercode],\r\n",
                "    [salespersoncode],\r\n",
                "    [companyname],\r\n",
                "    LEN([companyname]) AS [companyname_len],\r\n",
                "    DATALENGTH([companyname]) AS [companyname_length] \r\n",
                "FROM [dbo].[testcustomertable];"
            ],
            "metadata": {
                "azdata_cell_guid": "b7bdcd22-4b4a-4a11-85af-b7268056e94e",
                "language": "sql"
            },
            "outputs": [
                {
                    "output_type": "display_data",
                    "data": {
                        "text/html": "(2 rows affected)"
                    },
                    "metadata": {}
                },
                {
                    "output_type": "display_data",
                    "data": {
                        "text/html": "Total execution time: 00:00:00.080"
                    },
                    "metadata": {}
                },
                {
                    "output_type": "execute_result",
                    "metadata": {},
                    "execution_count": 7,
                    "data": {
                        "application/vnd.dataresource+json": {
                            "schema": {
                                "fields": [
                                    {
                                        "name": "customerid"
                                    },
                                    {
                                        "name": "customercode"
                                    },
                                    {
                                        "name": "salespersoncode"
                                    },
                                    {
                                        "name": "companyname"
                                    },
                                    {
                                        "name": "companyname_len"
                                    },
                                    {
                                        "name": "companyname_length"
                                    }
                                ]
                            },
                            "data": [
                                {
                                    "0": "1",
                                    "1": "custcode1",
                                    "2": "salescode1",
                                    "3": "companytest",
                                    "4": "11",
                                    "5": "11"
                                },
                                {
                                    "0": "1",
                                    "1": "custcode1",
                                    "2": "salescode1",
                                    "3": "companytest   ",
                                    "4": "11",
                                    "5": "14"
                                }
                            ]
                        },
                        "text/html": [
                            "<table>",
                            "<tr><th>customerid</th><th>customercode</th><th>salespersoncode</th><th>companyname</th><th>companyname_len</th><th>companyname_length</th></tr>",
                            "<tr><td>1</td><td>custcode1</td><td>salescode1</td><td>companytest</td><td>11</td><td>11</td></tr>",
                            "<tr><td>1</td><td>custcode1</td><td>salescode1</td><td>companytest   </td><td>11</td><td>14</td></tr>",
                            "</table>"
                        ]
                    }
                }
            ],
            "execution_count": 7
        },
        {
            "cell_type": "markdown",
            "source": [
                "### **Compare**\n",
                "\n",
                "[INF: How SQL Server Compares Strings with Trailing Spaces](https://support.microsoft.com/nl-nl/topic/inf-how-sql-server-compares-strings-with-trailing-spaces-b62b1a2d-27d3-4260-216d-a605719003b0): _SQL Server follows the ANSI/ISO SQL-92 specification (Section 8.2, \\<Comparison Predicate\\>, General rules #3) on how to compare strings with spaces. The ANSI standard requires padding for the character strings used in comparisons so that their lengths match before comparing them. The padding directly affects the semantics of WHERE and HAVING clause predicates and other Transact-SQL string comparisons. For example, Transact-SQL considers the strings 'abc' and 'abc ' to be equivalent for most comparison operations._\n",
                "\n",
                "Below _select_ will return both rows from our example data. So, including the _companyname_ with trailing spaces."
            ],
            "metadata": {
                "language": "sql",
                "azdata_cell_guid": "35267211-b666-4e5e-ac44-de1623a8dd48"
            },
            "attachments": {}
        },
        {
            "cell_type": "code",
            "source": [
                "SELECT *, DATALENGTH([companyname]) AS [companyname_datalength]\r\n",
                "FROM [dbo].[testcustomertable]\r\n",
                "WHERE [companyname] = 'companytest';"
            ],
            "metadata": {
                "azdata_cell_guid": "a1d1833d-48e9-48bc-b883-47f27d9442c1",
                "language": "sql"
            },
            "outputs": [
                {
                    "output_type": "display_data",
                    "data": {
                        "text/html": "(2 rows affected)"
                    },
                    "metadata": {}
                },
                {
                    "output_type": "display_data",
                    "data": {
                        "text/html": "Total execution time: 00:00:00.090"
                    },
                    "metadata": {}
                },
                {
                    "output_type": "execute_result",
                    "metadata": {},
                    "execution_count": 8,
                    "data": {
                        "application/vnd.dataresource+json": {
                            "schema": {
                                "fields": [
                                    {
                                        "name": "customerid"
                                    },
                                    {
                                        "name": "customercode"
                                    },
                                    {
                                        "name": "salespersoncode"
                                    },
                                    {
                                        "name": "companyname"
                                    },
                                    {
                                        "name": "title"
                                    },
                                    {
                                        "name": "firstname"
                                    },
                                    {
                                        "name": "LastName"
                                    },
                                    {
                                        "name": "companyname_datalength"
                                    }
                                ]
                            },
                            "data": [
                                {
                                    "0": "1",
                                    "1": "custcode1",
                                    "2": "salescode1",
                                    "3": "companytest",
                                    "4": "titlex",
                                    "5": "testfirstname",
                                    "6": "testlastname",
                                    "7": "11"
                                },
                                {
                                    "0": "1",
                                    "1": "custcode1",
                                    "2": "salescode1",
                                    "3": "companytest   ",
                                    "4": "titlex",
                                    "5": "testfirstname",
                                    "6": "testlastname",
                                    "7": "14"
                                }
                            ]
                        },
                        "text/html": [
                            "<table>",
                            "<tr><th>customerid</th><th>customercode</th><th>salespersoncode</th><th>companyname</th><th>title</th><th>firstname</th><th>LastName</th><th>companyname_datalength</th></tr>",
                            "<tr><td>1</td><td>custcode1</td><td>salescode1</td><td>companytest</td><td>titlex</td><td>testfirstname</td><td>testlastname</td><td>11</td></tr>",
                            "<tr><td>1</td><td>custcode1</td><td>salescode1</td><td>companytest   </td><td>titlex</td><td>testfirstname</td><td>testlastname</td><td>14</td></tr>",
                            "</table>"
                        ]
                    }
                }
            ],
            "execution_count": 8
        },
        {
            "cell_type": "markdown",
            "source": [
                "Using a combination of search value and DATALENGTH can be used to get the unique value. \n",
                "\n",
                "However, be **aware** of the following: _If processing a unicode string, DATALENGTH will return a number that may not be equal to the number of characters._"
            ],
            "metadata": {
                "language": "sql",
                "azdata_cell_guid": "6a0d05f3-c874-4381-817e-e96e2b8b491c"
            },
            "attachments": {}
        },
        {
            "cell_type": "code",
            "source": [
                "-- Use datalength to limit the where-clause to obtain a specific value\r\n",
                "SELECT *, DATALENGTH(companyname) AS companyname_datalength\r\n",
                "FROM [dbo].[testcustomertable]\r\n",
                "WHERE [companyname] = 'companytest   '\r\n",
                "AND DATALENGTH([companyname]) = DATALENGTH('companytest   ');"
            ],
            "metadata": {
                "language": "sql",
                "azdata_cell_guid": "1c39240a-7f82-457d-8fe8-0b8b6367f5ee"
            },
            "outputs": [
                {
                    "output_type": "display_data",
                    "data": {
                        "text/html": "(1 row affected)"
                    },
                    "metadata": {}
                },
                {
                    "output_type": "display_data",
                    "data": {
                        "text/html": "Total execution time: 00:00:00.045"
                    },
                    "metadata": {}
                },
                {
                    "output_type": "execute_result",
                    "metadata": {},
                    "execution_count": 9,
                    "data": {
                        "application/vnd.dataresource+json": {
                            "schema": {
                                "fields": [
                                    {
                                        "name": "customerid"
                                    },
                                    {
                                        "name": "customercode"
                                    },
                                    {
                                        "name": "salespersoncode"
                                    },
                                    {
                                        "name": "companyname"
                                    },
                                    {
                                        "name": "title"
                                    },
                                    {
                                        "name": "firstname"
                                    },
                                    {
                                        "name": "LastName"
                                    },
                                    {
                                        "name": "companyname_datalength"
                                    }
                                ]
                            },
                            "data": [
                                {
                                    "0": "1",
                                    "1": "custcode1",
                                    "2": "salescode1",
                                    "3": "companytest   ",
                                    "4": "titlex",
                                    "5": "testfirstname",
                                    "6": "testlastname",
                                    "7": "14"
                                }
                            ]
                        },
                        "text/html": [
                            "<table>",
                            "<tr><th>customerid</th><th>customercode</th><th>salespersoncode</th><th>companyname</th><th>title</th><th>firstname</th><th>LastName</th><th>companyname_datalength</th></tr>",
                            "<tr><td>1</td><td>custcode1</td><td>salescode1</td><td>companytest   </td><td>titlex</td><td>testfirstname</td><td>testlastname</td><td>14</td></tr>",
                            "</table>"
                        ]
                    }
                }
            ],
            "execution_count": 9
        },
        {
            "cell_type": "markdown",
            "source": [
                "This solution will be compatible with unicode, however be aware of column length."
            ],
            "metadata": {
                "language": "sql",
                "azdata_cell_guid": "b50a5566-caf1-4b5f-8d53-a6ba7c58e838"
            },
            "attachments": {}
        },
        {
            "cell_type": "code",
            "source": [
                "-- Add a trailing character in the comparison\r\n",
                "SELECT *, DATALENGTH(companyname) AS companyname_datalength\r\n",
                "FROM [dbo].[testcustomertable]\r\n",
                "WHERE [companyname] + 'x' = 'companytest   ' + 'x';"
            ],
            "metadata": {
                "language": "sql",
                "azdata_cell_guid": "9fc3937e-69af-4ad3-9c78-3477d3ee31a3",
                "tags": []
            },
            "outputs": [
                {
                    "output_type": "display_data",
                    "data": {
                        "text/html": "(1 row affected)"
                    },
                    "metadata": {}
                },
                {
                    "output_type": "display_data",
                    "data": {
                        "text/html": "Total execution time: 00:00:00.084"
                    },
                    "metadata": {}
                },
                {
                    "output_type": "execute_result",
                    "metadata": {},
                    "execution_count": 10,
                    "data": {
                        "application/vnd.dataresource+json": {
                            "schema": {
                                "fields": [
                                    {
                                        "name": "customerid"
                                    },
                                    {
                                        "name": "customercode"
                                    },
                                    {
                                        "name": "salespersoncode"
                                    },
                                    {
                                        "name": "companyname"
                                    },
                                    {
                                        "name": "title"
                                    },
                                    {
                                        "name": "firstname"
                                    },
                                    {
                                        "name": "LastName"
                                    },
                                    {
                                        "name": "companyname_datalength"
                                    }
                                ]
                            },
                            "data": [
                                {
                                    "0": "1",
                                    "1": "custcode1",
                                    "2": "salescode1",
                                    "3": "companytest   ",
                                    "4": "titlex",
                                    "5": "testfirstname",
                                    "6": "testlastname",
                                    "7": "14"
                                }
                            ]
                        },
                        "text/html": [
                            "<table>",
                            "<tr><th>customerid</th><th>customercode</th><th>salespersoncode</th><th>companyname</th><th>title</th><th>firstname</th><th>LastName</th><th>companyname_datalength</th></tr>",
                            "<tr><td>1</td><td>custcode1</td><td>salescode1</td><td>companytest   </td><td>titlex</td><td>testfirstname</td><td>testlastname</td><td>14</td></tr>",
                            "</table>"
                        ]
                    }
                }
            ],
            "execution_count": 10
        },
        {
            "cell_type": "code",
            "source": [
                "SELECT \r\n",
                "    [companyname],\r\n",
                "    DATALENGTH([companyname]) AS [companyname_length],\r\n",
                "    CASE WHEN [companyname] = 'companytest' THEN 'MATCH' ELSE 'NO MATCH' END [eq],\r\n",
                "    CASE WHEN [companyname] + 'x' = 'companytestx' THEN 'MATCH' ELSE 'NO MATCH' END [eq_add_trailing_char],\r\n",
                "    CASE WHEN [companyname] LIKE 'companytest' THEN 'MATCH' ELSE 'NO MATCH' END [like_without_spaces],\r\n",
                "    CASE WHEN [companyname] LIKE 'companytest   ' THEN 'MATCH' ELSE 'NO MATCH' END AS [like_with_spaces]\r\n",
                "FROM [dbo].[testcustomertable];"
            ],
            "metadata": {
                "language": "sql",
                "azdata_cell_guid": "d26142f5-e062-4c58-a6e8-ab7fd1679d3e"
            },
            "outputs": [
                {
                    "output_type": "display_data",
                    "data": {
                        "text/html": "(2 rows affected)"
                    },
                    "metadata": {}
                },
                {
                    "output_type": "display_data",
                    "data": {
                        "text/html": "Total execution time: 00:00:00.047"
                    },
                    "metadata": {}
                },
                {
                    "output_type": "execute_result",
                    "metadata": {},
                    "execution_count": 11,
                    "data": {
                        "application/vnd.dataresource+json": {
                            "schema": {
                                "fields": [
                                    {
                                        "name": "companyname"
                                    },
                                    {
                                        "name": "companyname_length"
                                    },
                                    {
                                        "name": "eq"
                                    },
                                    {
                                        "name": "eq_add_trailing_char"
                                    },
                                    {
                                        "name": "like_without_spaces"
                                    },
                                    {
                                        "name": "like_with_spaces"
                                    }
                                ]
                            },
                            "data": [
                                {
                                    "0": "companytest",
                                    "1": "11",
                                    "2": "MATCH",
                                    "3": "MATCH",
                                    "4": "MATCH",
                                    "5": "NO MATCH"
                                },
                                {
                                    "0": "companytest   ",
                                    "1": "14",
                                    "2": "MATCH",
                                    "3": "NO MATCH",
                                    "4": "MATCH",
                                    "5": "MATCH"
                                }
                            ]
                        },
                        "text/html": [
                            "<table>",
                            "<tr><th>companyname</th><th>companyname_length</th><th>eq</th><th>eq_add_trailing_char</th><th>like_without_spaces</th><th>like_with_spaces</th></tr>",
                            "<tr><td>companytest</td><td>11</td><td>MATCH</td><td>MATCH</td><td>MATCH</td><td>NO MATCH</td></tr>",
                            "<tr><td>companytest   </td><td>14</td><td>MATCH</td><td>NO MATCH</td><td>MATCH</td><td>MATCH</td></tr>",
                            "</table>"
                        ]
                    }
                }
            ],
            "execution_count": 11
        },
        {
            "cell_type": "markdown",
            "source": [
                "### **Create Unique index on <span style=\"color: rgb(33, 33, 33); font-family: Consolas, &quot;Courier New&quot;, monospace; font-size: 12px; white-space: pre;\">customerid, c</span><span style=\"color: rgb(33, 33, 33); font-family: Consolas, &quot;Courier New&quot;, monospace; font-size: 12px; white-space: pre;\">ustomercode, </span> <span style=\"color: rgb(33, 33, 33); font-family: Consolas, &quot;Courier New&quot;, monospace; font-size: 12px; white-space: pre;\">salespersoncode, </span> <span style=\"color: rgb(33, 33, 33); font-family: Consolas, &quot;Courier New&quot;, monospace; font-size: 12px; white-space: pre;\">companyname</span>**\n",
                "\n",
                "[INF: Insertion of Strings Containing Trailing Spaces:](https://www.betaarchive.com/wiki/index.php/Microsoft_KB_Archive/231830) <span style=\"color: rgb(33, 37, 41); font-family: -apple-system, BlinkMacSystemFont, &quot;Segoe UI&quot;, Roboto, &quot;Helvetica Neue&quot;, Arial, &quot;Noto Sans&quot;, &quot;Liberation Sans&quot;, sans-serif, &quot;Apple Color Emoji&quot;, &quot;Segoe UI Emoji&quot;, &quot;Segoe UI Symbol&quot;, &quot;Noto Color Emoji&quot;; font-size: 16px; background-color: rgb(255, 255, 255);\"><i>An insertion into a column whose values must be unique will fail if you supply a value that is differentiated from existing values by trailing spaces only. The following strings will all be considered equivalent by a unique constraint, primary key, or unique index. Likewise, if you have an existing table with the data below and try to add a unique restriction, it will fail because the values are considered identical.</i></span>"
            ],
            "metadata": {
                "language": "sql",
                "azdata_cell_guid": "d4616e60-102b-4247-b00f-d9907d53b2ab"
            },
            "attachments": {}
        },
        {
            "cell_type": "code",
            "source": [
                "-- Will fail!\r\n",
                "CREATE UNIQUE NONCLUSTERED INDEX [IDX_UNIQUECOMBINATION]\r\n",
                "    ON [dbo].[testcustomertable]([customerid] ASC, [customercode] ASC, [salespersoncode] ASC, [companyname] ASC);\r\n",
                ""
            ],
            "metadata": {
                "language": "sql",
                "azdata_cell_guid": "9bb232cd-6f4a-45f1-b066-4f1f4b2e23af"
            },
            "outputs": [
                {
                    "output_type": "error",
                    "evalue": "Msg 1505, Level 16, State 1, Line 2\r\nThe CREATE UNIQUE INDEX statement terminated because a duplicate key was found for the object name 'dbo.testcustomertable' and the index name 'IDX_UNIQUECOMBINATION'. The duplicate key value is (1, custcode1, salescode1, companytest   ).",
                    "ename": "",
                    "traceback": []
                },
                {
                    "output_type": "display_data",
                    "data": {
                        "text/html": "The statement has been terminated."
                    },
                    "metadata": {}
                },
                {
                    "output_type": "display_data",
                    "data": {
                        "text/html": "Total execution time: 00:00:00.064"
                    },
                    "metadata": {}
                }
            ],
            "execution_count": 13
        },
        {
            "cell_type": "markdown",
            "source": [
                "### **Alternative 1 - Add computed column with trailing character**\n",
                "\n",
                "Solution is compatible with unicode (datatype _nvarchar_, inserting _N'value'_)"
            ],
            "metadata": {
                "language": "sql",
                "azdata_cell_guid": "80d4dcc5-a27a-469b-8b3b-883c384ab1de"
            },
            "attachments": {}
        },
        {
            "cell_type": "code",
            "source": [
                "-- Alternative one - Add trailing character\r\n",
                "ALTER TABLE [dbo].[testcustomertable]\r\n",
                "ADD [companyname_trailing_character] AS CAST([companyname] + 'x' AS VARCHAR(129));"
            ],
            "metadata": {
                "language": "sql",
                "azdata_cell_guid": "21574996-1246-493d-a523-5604b6ed08d4",
                "tags": []
            },
            "outputs": [
                {
                    "output_type": "display_data",
                    "data": {
                        "text/html": "Commands completed successfully."
                    },
                    "metadata": {}
                },
                {
                    "output_type": "display_data",
                    "data": {
                        "text/html": "Total execution time: 00:00:00.039"
                    },
                    "metadata": {}
                }
            ],
            "execution_count": 17
        },
        {
            "cell_type": "code",
            "source": [
                "CREATE UNIQUE NONCLUSTERED INDEX [IDX_UNIQUECOMBINATION_1]\r\n",
                "    ON [dbo].[testcustomertable]([customerid] ASC, [customercode] ASC, [salespersoncode] ASC, [companyname_trailing_character] ASC);"
            ],
            "metadata": {
                "language": "sql",
                "azdata_cell_guid": "ffd6d790-a528-4060-a47e-01a88287ea19",
                "tags": []
            },
            "outputs": [
                {
                    "output_type": "display_data",
                    "data": {
                        "text/html": "Commands completed successfully."
                    },
                    "metadata": {}
                },
                {
                    "output_type": "display_data",
                    "data": {
                        "text/html": "Total execution time: 00:00:00.036"
                    },
                    "metadata": {}
                }
            ],
            "execution_count": 18
        },
        {
            "cell_type": "code",
            "source": [
                "-- Will fail!\r\n",
                "-- #1\r\n",
                "INSERT INTO [dbo].[testcustomertable](\r\n",
                "    [customerid],\r\n",
                "    [customercode],\r\n",
                "    [salespersoncode],\r\n",
                "    [companyname]\r\n",
                ") VALUES (\r\n",
                "    1,\r\n",
                "    'custcode1',\r\n",
                "    'salescode1',\r\n",
                "    'companytest'\r\n",
                ");\r\n",
                "\r\n",
                "-- #2\r\n",
                "INSERT INTO [dbo].[testcustomertable](\r\n",
                "    [customerid],\r\n",
                "    [customercode],\r\n",
                "    [salespersoncode],\r\n",
                "    [companyname]\r\n",
                ") VALUES (\r\n",
                "    1,\r\n",
                "    'custcode1',\r\n",
                "    'salescode1',\r\n",
                "    'companytest   '\r\n",
                ");"
            ],
            "metadata": {
                "language": "sql",
                "azdata_cell_guid": "ff8447c5-b1ea-4a75-bdd5-1093f867c4e2"
            },
            "outputs": [
                {
                    "output_type": "display_data",
                    "data": {
                        "text/html": "(1 row affected)"
                    },
                    "metadata": {}
                },
                {
                    "output_type": "display_data",
                    "data": {
                        "text/html": "(1 row affected)"
                    },
                    "metadata": {}
                },
                {
                    "output_type": "display_data",
                    "data": {
                        "text/html": "Total execution time: 00:00:00.041"
                    },
                    "metadata": {}
                }
            ],
            "execution_count": 19
        },
        {
            "cell_type": "markdown",
            "source": [
                "### **Alternative 2 - Add computed column with datalength of companyname**\n",
                "\n",
                "Add the _companyname\\_length_ column as computed column. Important to keep the following in mind: _If processing a unicode string, DATALENGTH will return a number that may not be equal to the number of characters._\n",
                "\n",
                "The computed column can also be [persisted](https://docs.microsoft.com/en-us/sql/relational-databases/tables/specify-computed-columns-in-a-table?view=sql-server-ver15). This might have a [performance benefit](https://www.red-gate.com/simple-talk/databases/sql-server/performance-sql-server/computed-column-performance-in-sql-server/) over more space needed."
            ],
            "metadata": {
                "language": "sql",
                "azdata_cell_guid": "b59f3533-a375-40e6-967f-6d97aef231a4"
            },
            "attachments": {}
        },
        {
            "cell_type": "code",
            "source": [
                "-- Alternative one - Add DATALENGTH as computed column\r\n",
                "ALTER TABLE [dbo].[testcustomertable]\r\n",
                "--ADD [companyname_length] AS DATALENGTH(companyname);\r\n",
                "ADD [companyname_length] AS DATALENGTH(companyname) PERSISTED;"
            ],
            "metadata": {
                "language": "sql",
                "azdata_cell_guid": "f11236ce-5ed0-4685-b2f3-af10c5570272"
            },
            "outputs": [
                {
                    "output_type": "display_data",
                    "data": {
                        "text/html": "Commands completed successfully."
                    },
                    "metadata": {}
                },
                {
                    "output_type": "display_data",
                    "data": {
                        "text/html": "Total execution time: 00:00:00.032"
                    },
                    "metadata": {}
                }
            ],
            "execution_count": 29
        },
        {
            "cell_type": "markdown",
            "source": [
                "Add the unique index including the _companyname\\_length_ computed column."
            ],
            "metadata": {
                "language": "sql",
                "azdata_cell_guid": "a1c2742e-feba-4817-a3b6-8768ff38154a"
            },
            "attachments": {}
        },
        {
            "cell_type": "code",
            "source": [
                "-- Computed column [companyname_length] as part of the unique index\r\n",
                "-- https://docs.microsoft.com/en-us/sql/relational-databases/indexes/indexes-on-computed-columns?view=sql-server-ver15\r\n",
                "DROP INDEX IF EXISTS [IDX_UNIQUECOMBINATION_2] ON [dbo].[testcustomertable]\r\n",
                "\r\n",
                "CREATE UNIQUE NONCLUSTERED INDEX [IDX_UNIQUECOMBINATION_2]\r\n",
                "    ON [dbo].[testcustomertable]([customerid] ASC, [customercode] ASC, [salespersoncode] ASC, [companyname] ASC, [companyname_length] ASC);"
            ],
            "metadata": {
                "language": "sql",
                "azdata_cell_guid": "f59558f8-3a79-4f1c-ba1a-d406d23f2fb0",
                "tags": []
            },
            "outputs": [
                {
                    "output_type": "display_data",
                    "data": {
                        "text/html": "Commands completed successfully."
                    },
                    "metadata": {}
                },
                {
                    "output_type": "display_data",
                    "data": {
                        "text/html": "Total execution time: 00:00:00.041"
                    },
                    "metadata": {}
                }
            ],
            "execution_count": 30
        },
        {
            "cell_type": "code",
            "source": [
                "SELECT *\r\n",
                "FROM [dbo].[testcustomertable];"
            ],
            "metadata": {
                "language": "sql",
                "azdata_cell_guid": "454031ae-654a-4ca5-b96a-7b909e5c237b"
            },
            "outputs": [
                {
                    "output_type": "display_data",
                    "data": {
                        "text/html": "(2 rows affected)"
                    },
                    "metadata": {}
                },
                {
                    "output_type": "display_data",
                    "data": {
                        "text/html": "Total execution time: 00:00:00.043"
                    },
                    "metadata": {}
                },
                {
                    "output_type": "execute_result",
                    "metadata": {},
                    "execution_count": 33,
                    "data": {
                        "application/vnd.dataresource+json": {
                            "schema": {
                                "fields": [
                                    {
                                        "name": "customerid"
                                    },
                                    {
                                        "name": "customercode"
                                    },
                                    {
                                        "name": "salespersoncode"
                                    },
                                    {
                                        "name": "companyname"
                                    },
                                    {
                                        "name": "title"
                                    },
                                    {
                                        "name": "firstname"
                                    },
                                    {
                                        "name": "LastName"
                                    },
                                    {
                                        "name": "companyname_length"
                                    }
                                ]
                            },
                            "data": [
                                {
                                    "0": "1",
                                    "1": "custcode1",
                                    "2": "salescode1",
                                    "3": "companytest",
                                    "4": "titlex",
                                    "5": "testfirstname",
                                    "6": "testlastname",
                                    "7": "11"
                                },
                                {
                                    "0": "1",
                                    "1": "custcode1",
                                    "2": "salescode1",
                                    "3": "companytest   ",
                                    "4": "titlex",
                                    "5": "testfirstname",
                                    "6": "testlastname",
                                    "7": "14"
                                }
                            ]
                        },
                        "text/html": [
                            "<table>",
                            "<tr><th>customerid</th><th>customercode</th><th>salespersoncode</th><th>companyname</th><th>title</th><th>firstname</th><th>LastName</th><th>companyname_length</th></tr>",
                            "<tr><td>1</td><td>custcode1</td><td>salescode1</td><td>companytest</td><td>titlex</td><td>testfirstname</td><td>testlastname</td><td>11</td></tr>",
                            "<tr><td>1</td><td>custcode1</td><td>salescode1</td><td>companytest   </td><td>titlex</td><td>testfirstname</td><td>testlastname</td><td>14</td></tr>",
                            "</table>"
                        ]
                    }
                }
            ],
            "execution_count": 33
        },
        {
            "cell_type": "markdown",
            "source": [
                "Insert existing data will **fail** with a duplicate key error."
            ],
            "metadata": {
                "language": "sql",
                "azdata_cell_guid": "136c6a30-a539-416a-911c-3502f5bcb532"
            },
            "attachments": {}
        },
        {
            "cell_type": "code",
            "source": [
                "-- #1\r\n",
                "INSERT INTO [dbo].[testcustomertable](\r\n",
                "    customerid,\r\n",
                "    customercode,\r\n",
                "    salespersoncode,\r\n",
                "    companyname\r\n",
                ") VALUES (\r\n",
                "1,\r\n",
                "'custcode1',\r\n",
                "'salescode1',\r\n",
                "'companytest'\r\n",
                ");\r\n",
                "\r\n",
                "-- #2\r\n",
                "INSERT INTO [dbo].[testcustomertable](\r\n",
                "    customerid,\r\n",
                "    customercode,\r\n",
                "    salespersoncode,\r\n",
                "    companyname\r\n",
                ") VALUES (\r\n",
                "    1,\r\n",
                "    'custcode1',\r\n",
                "    'salescode1',\r\n",
                "    'companytest   '\r\n",
                ");"
            ],
            "metadata": {
                "language": "sql",
                "azdata_cell_guid": "6afc6f3b-93fa-4ee8-9654-8f02faa8a388"
            },
            "outputs": [
                {
                    "output_type": "error",
                    "evalue": "Msg 2601, Level 14, State 1, Line 2\r\nCannot insert duplicate key row in object 'dbo.testcustomertable' with unique index 'IDX_UNIQUECOMBINATION_2'. The duplicate key value is (1, custcode1, salescode1, companytest, 11).",
                    "ename": "",
                    "traceback": []
                },
                {
                    "output_type": "display_data",
                    "data": {
                        "text/html": "The statement has been terminated."
                    },
                    "metadata": {}
                },
                {
                    "output_type": "error",
                    "evalue": "Msg 2601, Level 14, State 1, Line 15\r\nCannot insert duplicate key row in object 'dbo.testcustomertable' with unique index 'IDX_UNIQUECOMBINATION_2'. The duplicate key value is (1, custcode1, salescode1, companytest   , 14).",
                    "ename": "",
                    "traceback": []
                },
                {
                    "output_type": "display_data",
                    "data": {
                        "text/html": "The statement has been terminated."
                    },
                    "metadata": {}
                },
                {
                    "output_type": "display_data",
                    "data": {
                        "text/html": "Total execution time: 00:00:00.039"
                    },
                    "metadata": {}
                }
            ],
            "execution_count": 34
        },
        {
            "cell_type": "markdown",
            "source": [
                "Adding a new set of unique records containing spaces works as expected."
            ],
            "metadata": {
                "language": "sql",
                "azdata_cell_guid": "9c033cce-4f4c-4e79-b061-3e70637bb86c"
            },
            "attachments": {}
        },
        {
            "cell_type": "code",
            "source": [
                "-- #3\r\n",
                "INSERT INTO [dbo].[testcustomertable](\r\n",
                "    customerid,\r\n",
                "    customercode,\r\n",
                "    salespersoncode,\r\n",
                "    companyname\r\n",
                ") VALUES (\r\n",
                "1,\r\n",
                "'custcode2',\r\n",
                "'salescode2',\r\n",
                "'companytest'\r\n",
                ");\r\n",
                "\r\n",
                "-- #4\r\n",
                "INSERT INTO [dbo].[testcustomertable](\r\n",
                "    customerid,\r\n",
                "    customercode,\r\n",
                "    salespersoncode,\r\n",
                "    companyname\r\n",
                ") VALUES (\r\n",
                "    1,\r\n",
                "    'custcode2',\r\n",
                "    'salescode2',\r\n",
                "    'companytest   '\r\n",
                ");"
            ],
            "metadata": {
                "language": "sql",
                "azdata_cell_guid": "30569bfc-bfc0-4140-8cef-2755dc2954cf"
            },
            "outputs": [
                {
                    "output_type": "display_data",
                    "data": {
                        "text/html": "(1 row affected)"
                    },
                    "metadata": {}
                },
                {
                    "output_type": "display_data",
                    "data": {
                        "text/html": "(1 row affected)"
                    },
                    "metadata": {}
                },
                {
                    "output_type": "display_data",
                    "data": {
                        "text/html": "Total execution time: 00:00:00.035"
                    },
                    "metadata": {}
                }
            ],
            "execution_count": 35
        },
        {
            "cell_type": "code",
            "source": [
                "SELECT * \r\n",
                "FROM [dbo].[testcustomertable];"
            ],
            "metadata": {
                "language": "sql",
                "azdata_cell_guid": "2c059372-ae5b-4e54-a9af-c89857cc8714",
                "tags": []
            },
            "outputs": [
                {
                    "output_type": "display_data",
                    "data": {
                        "text/html": "(4 rows affected)"
                    },
                    "metadata": {}
                },
                {
                    "output_type": "display_data",
                    "data": {
                        "text/html": "Total execution time: 00:00:00.040"
                    },
                    "metadata": {}
                },
                {
                    "output_type": "execute_result",
                    "metadata": {},
                    "execution_count": 36,
                    "data": {
                        "application/vnd.dataresource+json": {
                            "schema": {
                                "fields": [
                                    {
                                        "name": "customerid"
                                    },
                                    {
                                        "name": "customercode"
                                    },
                                    {
                                        "name": "salespersoncode"
                                    },
                                    {
                                        "name": "companyname"
                                    },
                                    {
                                        "name": "title"
                                    },
                                    {
                                        "name": "firstname"
                                    },
                                    {
                                        "name": "LastName"
                                    },
                                    {
                                        "name": "companyname_length"
                                    }
                                ]
                            },
                            "data": [
                                {
                                    "0": "1",
                                    "1": "custcode1",
                                    "2": "salescode1",
                                    "3": "companytest",
                                    "4": "titlex",
                                    "5": "testfirstname",
                                    "6": "testlastname",
                                    "7": "11"
                                },
                                {
                                    "0": "1",
                                    "1": "custcode1",
                                    "2": "salescode1",
                                    "3": "companytest   ",
                                    "4": "titlex",
                                    "5": "testfirstname",
                                    "6": "testlastname",
                                    "7": "14"
                                },
                                {
                                    "0": "1",
                                    "1": "custcode2",
                                    "2": "salescode2",
                                    "3": "companytest",
                                    "4": "titlex",
                                    "5": "testfirstname",
                                    "6": "testlastname",
                                    "7": "11"
                                },
                                {
                                    "0": "1",
                                    "1": "custcode2",
                                    "2": "salescode2",
                                    "3": "companytest   ",
                                    "4": "titlex",
                                    "5": "testfirstname",
                                    "6": "testlastname",
                                    "7": "14"
                                }
                            ]
                        },
                        "text/html": [
                            "<table>",
                            "<tr><th>customerid</th><th>customercode</th><th>salespersoncode</th><th>companyname</th><th>title</th><th>firstname</th><th>LastName</th><th>companyname_length</th></tr>",
                            "<tr><td>1</td><td>custcode1</td><td>salescode1</td><td>companytest</td><td>titlex</td><td>testfirstname</td><td>testlastname</td><td>11</td></tr>",
                            "<tr><td>1</td><td>custcode1</td><td>salescode1</td><td>companytest   </td><td>titlex</td><td>testfirstname</td><td>testlastname</td><td>14</td></tr>",
                            "<tr><td>1</td><td>custcode2</td><td>salescode2</td><td>companytest</td><td>titlex</td><td>testfirstname</td><td>testlastname</td><td>11</td></tr>",
                            "<tr><td>1</td><td>custcode2</td><td>salescode2</td><td>companytest   </td><td>titlex</td><td>testfirstname</td><td>testlastname</td><td>14</td></tr>",
                            "</table>"
                        ]
                    }
                }
            ],
            "execution_count": 36
        },
        {
            "cell_type": "markdown",
            "source": [
                "Modify a record to identify that the computed column is updated."
            ],
            "metadata": {
                "language": "sql",
                "azdata_cell_guid": "5e589254-13a3-4f86-8d81-02fbcd939f7d"
            },
            "attachments": {}
        },
        {
            "cell_type": "code",
            "source": [
                "-- Update test\r\n",
                "UPDATE [dbo].[testcustomertable]\r\n",
                "    SET [companyname] = 'testcompanytest'\r\n",
                "WHERE [customercode] = 'custcode1' \r\n",
                "AND [salespersoncode] = 'salescode1'\r\n",
                "AND [companyname] = 'companytest'\r\n",
                "AND [companyname_length] = 11"
            ],
            "metadata": {
                "language": "sql",
                "azdata_cell_guid": "61bb69e7-03a6-461f-a994-760da267f22c",
                "tags": []
            },
            "outputs": [
                {
                    "output_type": "display_data",
                    "data": {
                        "text/html": "(1 row affected)"
                    },
                    "metadata": {}
                },
                {
                    "output_type": "display_data",
                    "data": {
                        "text/html": "Total execution time: 00:00:00.066"
                    },
                    "metadata": {}
                }
            ],
            "execution_count": 37
        },
        {
            "cell_type": "markdown",
            "source": [
                "Review the combination being updated with _companyname_ to <span style=\"color: rgb(163, 21, 21); font-family: Consolas, &quot;Courier New&quot;, monospace; font-size: 12px; white-space: pre;\">testcompanytest </span> and companyname\\_length has been changed to 15 for this record."
            ],
            "metadata": {
                "language": "sql",
                "azdata_cell_guid": "59908220-b643-4934-a103-ccc006ef5c20"
            },
            "attachments": {}
        },
        {
            "cell_type": "code",
            "source": [
                "SELECT * \r\n",
                "FROM [dbo].[testcustomertable]"
            ],
            "metadata": {
                "language": "sql",
                "azdata_cell_guid": "ead299df-e95a-4fe7-83e3-84dee91e6ce5"
            },
            "outputs": [
                {
                    "output_type": "display_data",
                    "data": {
                        "text/html": "(4 rows affected)"
                    },
                    "metadata": {}
                },
                {
                    "output_type": "display_data",
                    "data": {
                        "text/html": "Total execution time: 00:00:00.047"
                    },
                    "metadata": {}
                },
                {
                    "output_type": "execute_result",
                    "metadata": {},
                    "execution_count": 38,
                    "data": {
                        "application/vnd.dataresource+json": {
                            "schema": {
                                "fields": [
                                    {
                                        "name": "customerid"
                                    },
                                    {
                                        "name": "customercode"
                                    },
                                    {
                                        "name": "salespersoncode"
                                    },
                                    {
                                        "name": "companyname"
                                    },
                                    {
                                        "name": "title"
                                    },
                                    {
                                        "name": "firstname"
                                    },
                                    {
                                        "name": "LastName"
                                    },
                                    {
                                        "name": "companyname_length"
                                    }
                                ]
                            },
                            "data": [
                                {
                                    "0": "1",
                                    "1": "custcode1",
                                    "2": "salescode1",
                                    "3": "testcompanytest",
                                    "4": "titlex",
                                    "5": "testfirstname",
                                    "6": "testlastname",
                                    "7": "15"
                                },
                                {
                                    "0": "1",
                                    "1": "custcode1",
                                    "2": "salescode1",
                                    "3": "companytest   ",
                                    "4": "titlex",
                                    "5": "testfirstname",
                                    "6": "testlastname",
                                    "7": "14"
                                },
                                {
                                    "0": "1",
                                    "1": "custcode2",
                                    "2": "salescode2",
                                    "3": "companytest",
                                    "4": "titlex",
                                    "5": "testfirstname",
                                    "6": "testlastname",
                                    "7": "11"
                                },
                                {
                                    "0": "1",
                                    "1": "custcode2",
                                    "2": "salescode2",
                                    "3": "companytest   ",
                                    "4": "titlex",
                                    "5": "testfirstname",
                                    "6": "testlastname",
                                    "7": "14"
                                }
                            ]
                        },
                        "text/html": [
                            "<table>",
                            "<tr><th>customerid</th><th>customercode</th><th>salespersoncode</th><th>companyname</th><th>title</th><th>firstname</th><th>LastName</th><th>companyname_length</th></tr>",
                            "<tr><td>1</td><td>custcode1</td><td>salescode1</td><td>testcompanytest</td><td>titlex</td><td>testfirstname</td><td>testlastname</td><td>15</td></tr>",
                            "<tr><td>1</td><td>custcode1</td><td>salescode1</td><td>companytest   </td><td>titlex</td><td>testfirstname</td><td>testlastname</td><td>14</td></tr>",
                            "<tr><td>1</td><td>custcode2</td><td>salescode2</td><td>companytest</td><td>titlex</td><td>testfirstname</td><td>testlastname</td><td>11</td></tr>",
                            "<tr><td>1</td><td>custcode2</td><td>salescode2</td><td>companytest   </td><td>titlex</td><td>testfirstname</td><td>testlastname</td><td>14</td></tr>",
                            "</table>"
                        ]
                    }
                }
            ],
            "execution_count": 38
        }
    ]
}
