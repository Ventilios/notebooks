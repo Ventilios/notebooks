{
    "metadata": {
        "kernelspec": {
            "name": "SQL",
            "display_name": "SQL",
            "language": "sql"
        },
        "language_info": {
            "name": "sql",
            "version": ""
        }
    },
    "nbformat_minor": 2,
    "nbformat": 4,
    "cells": [
        {
            "cell_type": "markdown",
            "source": [
                "**Setup a table**"
            ],
            "metadata": {
                "azdata_cell_guid": "14fbf8e6-9bc4-4050-bce3-07b269119639"
            },
            "attachments": {}
        },
        {
            "cell_type": "code",
            "source": [
                "DROP TABLE IF EXISTS [dbo].[testcustomertable]\r\n",
                "GO\r\n",
                "\r\n",
                "CREATE TABLE [dbo].[testcustomertable](\r\n",
                "\t[customerid] [bigint] NOT NULL,\r\n",
                "\t[customercode] [varchar](10) NOT NULL,\r\n",
                "    [salespersoncode] [varchar](10) NOT NULL,\r\n",
                "    [companyname] varchar(128) NOT NULL,\r\n",
                "\t[title] [varchar](8) NULL default('titlex'),\r\n",
                "\t[firstname] [nvarchar](64) NULL default('testfirstname'),\r\n",
                "\t[LastName] [nvarchar](64) NULL default('testlastname')\r\n",
                ") "
            ],
            "metadata": {
                "azdata_cell_guid": "30703240-9ba9-4f44-abab-5199409e45fa",
                "language": "sql"
            },
            "outputs": [
                {
                    "output_type": "display_data",
                    "data": {
                        "text/html": "Commands completed successfully."
                    },
                    "metadata": {}
                },
                {
                    "output_type": "display_data",
                    "data": {
                        "text/html": "Commands completed successfully."
                    },
                    "metadata": {}
                },
                {
                    "output_type": "display_data",
                    "data": {
                        "text/html": "Total execution time: 00:00:00.094"
                    },
                    "metadata": {}
                }
            ],
            "execution_count": 10
        },
        {
            "cell_type": "markdown",
            "source": [
                "**Insert a row with a unique combination** \n",
                "\n",
                "Insert #2 will contain companyname with three trailing spaces."
            ],
            "metadata": {
                "azdata_cell_guid": "7ec0ac8c-5449-4966-9c0b-f451b51793ec"
            },
            "attachments": {}
        },
        {
            "cell_type": "code",
            "source": [
                "-- #1\r\n",
                "INSERT INTO [dbo].[testcustomertable](\r\n",
                "    customerid,\r\n",
                "    customercode,\r\n",
                "    salespersoncode,\r\n",
                "    companyname\r\n",
                ") VALUES (\r\n",
                "1,\r\n",
                "'custcode1',\r\n",
                "'salescode1',\r\n",
                "'companytest'\r\n",
                ");\r\n",
                "\r\n",
                "-- #2\r\n",
                "INSERT INTO [dbo].[testcustomertable](\r\n",
                "    customerid,\r\n",
                "    customercode,\r\n",
                "    salespersoncode,\r\n",
                "    companyname\r\n",
                ") VALUES (\r\n",
                "    1,\r\n",
                "    'custcode1',\r\n",
                "    'salescode1',\r\n",
                "    'companytest   '\r\n",
                ");"
            ],
            "metadata": {
                "azdata_cell_guid": "415117c3-665c-459b-9551-a7b08e6eb3a4",
                "language": "sql"
            },
            "outputs": [
                {
                    "output_type": "display_data",
                    "data": {
                        "text/html": "(1 row affected)"
                    },
                    "metadata": {}
                },
                {
                    "output_type": "display_data",
                    "data": {
                        "text/html": "(1 row affected)"
                    },
                    "metadata": {}
                },
                {
                    "output_type": "display_data",
                    "data": {
                        "text/html": "Total execution time: 00:00:00.053"
                    },
                    "metadata": {}
                }
            ],
            "execution_count": 11
        },
        {
            "cell_type": "markdown",
            "source": [
                "**Review data**\n",
                "\n",
                "LEN versus DATALENGTH - [LEN (Transact-SQL) - SQL Server | Microsoft Docs](https://docs.microsoft.com/en-us/sql/t-sql/functions/len-transact-sql?view=sql-server-ver15#remarks) - _LEN excludes trailing spaces. If that is a problem, consider using the DATALENGTH (Transact-SQL) function which does not trim the string. If processing a unicode string, DATALENGTH will return a number that may not be equal to the number of characters._"
            ],
            "metadata": {
                "azdata_cell_guid": "d838ff2f-d058-47e9-bb8f-dffb2cbe5aa0"
            },
            "attachments": {}
        },
        {
            "cell_type": "code",
            "source": [
                "SELECT \r\n",
                "    customerid,\r\n",
                "    customercode,\r\n",
                "    salespersoncode,\r\n",
                "    companyname, \r\n",
                "    LEN([companyname]) AS [companyname_len],\r\n",
                "    DATALENGTH([companyname]) AS [companyname_length] \r\n",
                "FROM [dbo].[testcustomertable];"
            ],
            "metadata": {
                "azdata_cell_guid": "b7bdcd22-4b4a-4a11-85af-b7268056e94e",
                "language": "sql"
            },
            "outputs": [
                {
                    "output_type": "display_data",
                    "data": {
                        "text/html": "(2 rows affected)"
                    },
                    "metadata": {}
                },
                {
                    "output_type": "display_data",
                    "data": {
                        "text/html": "Total execution time: 00:00:00.098"
                    },
                    "metadata": {}
                },
                {
                    "output_type": "execute_result",
                    "metadata": {},
                    "execution_count": 4,
                    "data": {
                        "application/vnd.dataresource+json": {
                            "schema": {
                                "fields": [
                                    {
                                        "name": "customerid"
                                    },
                                    {
                                        "name": "customercode"
                                    },
                                    {
                                        "name": "salespersoncode"
                                    },
                                    {
                                        "name": "companyname"
                                    },
                                    {
                                        "name": "companyname_len"
                                    },
                                    {
                                        "name": "companyname_length"
                                    }
                                ]
                            },
                            "data": [
                                {
                                    "0": "1",
                                    "1": "custcode1",
                                    "2": "salescode1",
                                    "3": "companytest",
                                    "4": "11",
                                    "5": "11"
                                },
                                {
                                    "0": "1",
                                    "1": "custcode1",
                                    "2": "salescode1",
                                    "3": "companytest   ",
                                    "4": "11",
                                    "5": "14"
                                }
                            ]
                        },
                        "text/html": [
                            "<table>",
                            "<tr><th>customerid</th><th>customercode</th><th>salespersoncode</th><th>companyname</th><th>companyname_len</th><th>companyname_length</th></tr>",
                            "<tr><td>1</td><td>custcode1</td><td>salescode1</td><td>companytest</td><td>11</td><td>11</td></tr>",
                            "<tr><td>1</td><td>custcode1</td><td>salescode1</td><td>companytest   </td><td>11</td><td>14</td></tr>",
                            "</table>"
                        ]
                    }
                }
            ],
            "execution_count": 4
        },
        {
            "cell_type": "markdown",
            "source": [
                "**Compare**\n",
                "\n",
                "[INF: How SQL Server Compares Strings with Trailing Spaces](https://support.microsoft.com/nl-nl/topic/inf-how-sql-server-compares-strings-with-trailing-spaces-b62b1a2d-27d3-4260-216d-a605719003b0): _SQL Server follows the ANSI/ISO SQL-92 specification (Section 8.2, \\<Comparison Predicate\\>, General rules #3) on how to compare strings with spaces. The ANSI standard requires padding for the character strings used in comparisons so that their lengths match before comparing them. The padding directly affects the semantics of WHERE and HAVING clause predicates and other Transact-SQL string comparisons. For example, Transact-SQL considers the strings 'abc' and 'abc ' to be equivalent for most comparison operations._"
            ],
            "metadata": {
                "language": "sql",
                "azdata_cell_guid": "35267211-b666-4e5e-ac44-de1623a8dd48"
            },
            "attachments": {}
        },
        {
            "cell_type": "code",
            "source": [
                "-- Both records will be returned\r\n",
                "SELECT *, DATALENGTH(companyname) AS companyname_datalength\r\n",
                "FROM [dbo].[testcustomertable]\r\n",
                "WHERE [companyname] = 'companytest   ';"
            ],
            "metadata": {
                "azdata_cell_guid": "a1d1833d-48e9-48bc-b883-47f27d9442c1",
                "language": "sql"
            },
            "outputs": [
                {
                    "output_type": "display_data",
                    "data": {
                        "text/html": "(2 rows affected)"
                    },
                    "metadata": {}
                },
                {
                    "output_type": "display_data",
                    "data": {
                        "text/html": "Total execution time: 00:00:00.131"
                    },
                    "metadata": {}
                },
                {
                    "output_type": "execute_result",
                    "metadata": {},
                    "execution_count": 9,
                    "data": {
                        "application/vnd.dataresource+json": {
                            "schema": {
                                "fields": [
                                    {
                                        "name": "customerid"
                                    },
                                    {
                                        "name": "customercode"
                                    },
                                    {
                                        "name": "salespersoncode"
                                    },
                                    {
                                        "name": "companyname"
                                    },
                                    {
                                        "name": "title"
                                    },
                                    {
                                        "name": "firstname"
                                    },
                                    {
                                        "name": "LastName"
                                    },
                                    {
                                        "name": "companyname_datalength"
                                    }
                                ]
                            },
                            "data": [
                                {
                                    "0": "1",
                                    "1": "custcode1",
                                    "2": "salescode1",
                                    "3": "companytest",
                                    "4": "titlex",
                                    "5": "testfirstname",
                                    "6": "testlastname",
                                    "7": "11"
                                },
                                {
                                    "0": "1",
                                    "1": "custcode1",
                                    "2": "salescode1",
                                    "3": "companytest   ",
                                    "4": "titlex",
                                    "5": "testfirstname",
                                    "6": "testlastname",
                                    "7": "14"
                                }
                            ]
                        },
                        "text/html": [
                            "<table>",
                            "<tr><th>customerid</th><th>customercode</th><th>salespersoncode</th><th>companyname</th><th>title</th><th>firstname</th><th>LastName</th><th>companyname_datalength</th></tr>",
                            "<tr><td>1</td><td>custcode1</td><td>salescode1</td><td>companytest</td><td>titlex</td><td>testfirstname</td><td>testlastname</td><td>11</td></tr>",
                            "<tr><td>1</td><td>custcode1</td><td>salescode1</td><td>companytest   </td><td>titlex</td><td>testfirstname</td><td>testlastname</td><td>14</td></tr>",
                            "</table>"
                        ]
                    }
                }
            ],
            "execution_count": 9
        },
        {
            "cell_type": "code",
            "source": [
                "-- Use datalength to limit down the where-clause\r\n",
                "SELECT *, DATALENGTH(companyname) AS companyname_datalength\r\n",
                "FROM [dbo].[testcustomertable]\r\n",
                "WHERE [companyname] = 'companytest   '\r\n",
                "AND DATALENGTH([companyname]) = DATALENGTH('companytest   ');"
            ],
            "metadata": {
                "language": "sql",
                "azdata_cell_guid": "1c39240a-7f82-457d-8fe8-0b8b6367f5ee"
            },
            "outputs": [
                {
                    "output_type": "display_data",
                    "data": {
                        "text/html": "(1 row affected)"
                    },
                    "metadata": {}
                },
                {
                    "output_type": "display_data",
                    "data": {
                        "text/html": "Total execution time: 00:00:00.050"
                    },
                    "metadata": {}
                },
                {
                    "output_type": "execute_result",
                    "metadata": {},
                    "execution_count": 11,
                    "data": {
                        "application/vnd.dataresource+json": {
                            "schema": {
                                "fields": [
                                    {
                                        "name": "customerid"
                                    },
                                    {
                                        "name": "customercode"
                                    },
                                    {
                                        "name": "salespersoncode"
                                    },
                                    {
                                        "name": "companyname"
                                    },
                                    {
                                        "name": "title"
                                    },
                                    {
                                        "name": "firstname"
                                    },
                                    {
                                        "name": "LastName"
                                    },
                                    {
                                        "name": "companyname_datalength"
                                    }
                                ]
                            },
                            "data": [
                                {
                                    "0": "1",
                                    "1": "custcode1",
                                    "2": "salescode1",
                                    "3": "companytest   ",
                                    "4": "titlex",
                                    "5": "testfirstname",
                                    "6": "testlastname",
                                    "7": "14"
                                }
                            ]
                        },
                        "text/html": [
                            "<table>",
                            "<tr><th>customerid</th><th>customercode</th><th>salespersoncode</th><th>companyname</th><th>title</th><th>firstname</th><th>LastName</th><th>companyname_datalength</th></tr>",
                            "<tr><td>1</td><td>custcode1</td><td>salescode1</td><td>companytest   </td><td>titlex</td><td>testfirstname</td><td>testlastname</td><td>14</td></tr>",
                            "</table>"
                        ]
                    }
                }
            ],
            "execution_count": 11
        },
        {
            "cell_type": "code",
            "source": [
                "-- Add a character in the comparison\r\n",
                "SELECT *, DATALENGTH(companyname) AS companyname_datalength\r\n",
                "FROM [dbo].[testcustomertable]\r\n",
                "WHERE [companyname] + 'x' = 'companytest   ' + 'x'\r\n",
                "AND DATALENGTH([companyname]) = DATALENGTH('companytest   ');"
            ],
            "metadata": {
                "language": "sql",
                "azdata_cell_guid": "9fc3937e-69af-4ad3-9c78-3477d3ee31a3",
                "tags": []
            },
            "outputs": [
                {
                    "output_type": "display_data",
                    "data": {
                        "text/html": "(1 row affected)"
                    },
                    "metadata": {}
                },
                {
                    "output_type": "display_data",
                    "data": {
                        "text/html": "Total execution time: 00:00:00.106"
                    },
                    "metadata": {}
                },
                {
                    "output_type": "execute_result",
                    "metadata": {},
                    "execution_count": 8,
                    "data": {
                        "application/vnd.dataresource+json": {
                            "schema": {
                                "fields": [
                                    {
                                        "name": "customerid"
                                    },
                                    {
                                        "name": "customercode"
                                    },
                                    {
                                        "name": "salespersoncode"
                                    },
                                    {
                                        "name": "companyname"
                                    },
                                    {
                                        "name": "title"
                                    },
                                    {
                                        "name": "firstname"
                                    },
                                    {
                                        "name": "LastName"
                                    },
                                    {
                                        "name": "companyname_datalength"
                                    }
                                ]
                            },
                            "data": [
                                {
                                    "0": "1",
                                    "1": "custcode1",
                                    "2": "salescode1",
                                    "3": "companytest   ",
                                    "4": "titlex",
                                    "5": "testfirstname",
                                    "6": "testlastname",
                                    "7": "14"
                                }
                            ]
                        },
                        "text/html": [
                            "<table>",
                            "<tr><th>customerid</th><th>customercode</th><th>salespersoncode</th><th>companyname</th><th>title</th><th>firstname</th><th>LastName</th><th>companyname_datalength</th></tr>",
                            "<tr><td>1</td><td>custcode1</td><td>salescode1</td><td>companytest   </td><td>titlex</td><td>testfirstname</td><td>testlastname</td><td>14</td></tr>",
                            "</table>"
                        ]
                    }
                }
            ],
            "execution_count": 8
        },
        {
            "cell_type": "code",
            "source": [
                "SELECT \r\n",
                "    [companyname],\r\n",
                "    CASE WHEN [companyname] = 'companytest' THEN 'MATCH' ELSE 'NO MATCH' END,\r\n",
                "    CASE WHEN [companyname] + 'x' = 'companytestx' THEN 'MATCH' ELSE 'NO MATCH' END\r\n",
                "FROM [dbo].[testcustomertable];"
            ],
            "metadata": {
                "language": "sql",
                "azdata_cell_guid": "d26142f5-e062-4c58-a6e8-ab7fd1679d3e"
            },
            "outputs": [
                {
                    "output_type": "display_data",
                    "data": {
                        "text/html": "(2 rows affected)"
                    },
                    "metadata": {}
                },
                {
                    "output_type": "display_data",
                    "data": {
                        "text/html": "Total execution time: 00:00:00.127"
                    },
                    "metadata": {}
                },
                {
                    "output_type": "execute_result",
                    "execution_count": 12,
                    "data": {
                        "application/vnd.dataresource+json": {
                            "schema": {
                                "fields": [
                                    {
                                        "name": "companyname"
                                    },
                                    {
                                        "name": "(No column name)"
                                    },
                                    {
                                        "name": "(No column name)"
                                    }
                                ]
                            },
                            "data": [
                                {
                                    "0": "companytest",
                                    "1": "MATCH",
                                    "2": "MATCH"
                                },
                                {
                                    "0": "companytest   ",
                                    "1": "MATCH",
                                    "2": "NO MATCH"
                                }
                            ]
                        },
                        "text/html": "<table><tr><th>companyname</th><th>(No column name)</th><th>(No column name)</th></tr><tr><td>companytest</td><td>MATCH</td><td>MATCH</td></tr><tr><td>companytest   </td><td>MATCH</td><td>NO MATCH</td></tr></table>"
                    },
                    "metadata": {}
                }
            ],
            "execution_count": 12
        },
        {
            "cell_type": "markdown",
            "source": [
                "## **Create Unique index on <span style=\"color: rgb(33, 33, 33); font-family: Consolas, &quot;Courier New&quot;, monospace; font-size: 12px; white-space: pre;\">customerid, c</span><span style=\"color: rgb(33, 33, 33); font-family: Consolas, &quot;Courier New&quot;, monospace; font-size: 12px; white-space: pre;\">ustomercode, </span> <span style=\"color: rgb(33, 33, 33); font-family: Consolas, &quot;Courier New&quot;, monospace; font-size: 12px; white-space: pre;\">salespersoncode, </span> <span style=\"color: rgb(33, 33, 33); font-family: Consolas, &quot;Courier New&quot;, monospace; font-size: 12px; white-space: pre;\">companyname</span>**\n",
                "\n",
                "[INF: Insertion of Strings Containing Trailing Spaces:](https://www.betaarchive.com/wiki/index.php/Microsoft_KB_Archive/231830) <span style=\"color: rgb(33, 37, 41); font-family: -apple-system, BlinkMacSystemFont, &quot;Segoe UI&quot;, Roboto, &quot;Helvetica Neue&quot;, Arial, &quot;Noto Sans&quot;, &quot;Liberation Sans&quot;, sans-serif, &quot;Apple Color Emoji&quot;, &quot;Segoe UI Emoji&quot;, &quot;Segoe UI Symbol&quot;, &quot;Noto Color Emoji&quot;; font-size: 16px; background-color: rgb(255, 255, 255);\"><i>An insertion into a column whose values must be unique will fail if you supply a value that is differentiated from existing values by trailing spaces only. The following strings will all be considered equivalent by a unique constraint, primary key, or unique index. Likewise, if you have an existing table with the data below and try to add a unique restriction, it will fail because the values are considered identical.</i></span>"
            ],
            "metadata": {
                "language": "sql",
                "azdata_cell_guid": "d4616e60-102b-4247-b00f-d9907d53b2ab"
            },
            "attachments": {}
        },
        {
            "cell_type": "code",
            "source": [
                "CREATE UNIQUE NONCLUSTERED INDEX [IDX_UNIQUECOMBINATION]\r\n",
                "    ON [dbo].[testcustomertable]([customerid] ASC, [customercode] ASC, [salespersoncode] ASC, [companyname] ASC);\r\n",
                ""
            ],
            "metadata": {
                "language": "sql",
                "azdata_cell_guid": "9bb232cd-6f4a-45f1-b066-4f1f4b2e23af"
            },
            "outputs": [
                {
                    "output_type": "error",
                    "ename": "",
                    "evalue": "Msg 1505, Level 16, State 1, Line 1\r\nThe CREATE UNIQUE INDEX statement terminated because a duplicate key was found for the object name 'dbo.testcustomertable' and the index name 'IDX_UNIQUECOMBINATION'. The duplicate key value is (1, custcode1, salescode1, companytest   ).",
                    "traceback": []
                },
                {
                    "output_type": "display_data",
                    "data": {
                        "text/html": "The statement has been terminated."
                    },
                    "metadata": {}
                },
                {
                    "output_type": "display_data",
                    "data": {
                        "text/html": "Total execution time: 00:00:00.059"
                    },
                    "metadata": {}
                }
            ],
            "execution_count": 15
        },
        {
            "cell_type": "markdown",
            "source": [
                "**Alternative 1 - Add computed column with trailing character**"
            ],
            "metadata": {
                "language": "sql",
                "azdata_cell_guid": "80d4dcc5-a27a-469b-8b3b-883c384ab1de"
            },
            "attachments": {}
        },
        {
            "cell_type": "code",
            "source": [
                "-- Alternative one - Add trailing character\r\n",
                "ALTER TABLE [dbo].[testcustomertable]\r\n",
                "ADD [companyname_trailing_character] AS CAST(companyname + 'x' AS VARCHAR(129));"
            ],
            "metadata": {
                "language": "sql",
                "azdata_cell_guid": "21574996-1246-493d-a523-5604b6ed08d4",
                "tags": []
            },
            "outputs": [
                {
                    "output_type": "display_data",
                    "data": {
                        "text/html": "Commands completed successfully."
                    },
                    "metadata": {}
                },
                {
                    "output_type": "display_data",
                    "data": {
                        "text/html": "Total execution time: 00:00:00.079"
                    },
                    "metadata": {}
                }
            ],
            "execution_count": 13
        },
        {
            "cell_type": "code",
            "source": [
                "CREATE UNIQUE NONCLUSTERED INDEX [IDX_UNIQUECOMBINATION_1]\r\n",
                "    ON [dbo].[testcustomertable]([customerid] ASC, [customercode] ASC, [salespersoncode] ASC, [companyname_trailing_character] ASC);"
            ],
            "metadata": {
                "language": "sql",
                "azdata_cell_guid": "ffd6d790-a528-4060-a47e-01a88287ea19"
            },
            "outputs": [],
            "execution_count": null
        },
        {
            "cell_type": "markdown",
            "source": [
                "**Alternative 2 - Add computed column with datalength of companyname**"
            ],
            "metadata": {
                "language": "sql",
                "azdata_cell_guid": "b59f3533-a375-40e6-967f-6d97aef231a4"
            },
            "attachments": {}
        },
        {
            "cell_type": "code",
            "source": [
                "-- Alternative one - Add trailing character\r\n",
                "ALTER TABLE [dbo].[testcustomertable]\r\n",
                "ADD [companyname_length] AS DATALENGTH(companyname);"
            ],
            "metadata": {
                "language": "sql",
                "azdata_cell_guid": "f11236ce-5ed0-4685-b2f3-af10c5570272"
            },
            "outputs": [
                {
                    "output_type": "error",
                    "evalue": "Msg 2705, Level 16, State 5, Line 2\r\nColumn names in each table must be unique. Column name 'companyname_length' in table 'dbo.testcustomertable' is specified more than once.",
                    "ename": "",
                    "traceback": []
                },
                {
                    "output_type": "display_data",
                    "data": {
                        "text/html": "Total execution time: 00:00:00.044"
                    },
                    "metadata": {}
                }
            ],
            "execution_count": 16
        },
        {
            "cell_type": "code",
            "source": [
                "DROP INDEX IF EXISTS [IDX_UNIQUECOMBINATION_2] ON [dbo].[testcustomertable]\r\n",
                "\r\n",
                "CREATE UNIQUE NONCLUSTERED INDEX [IDX_UNIQUECOMBINATION_2]\r\n",
                "    ON [dbo].[testcustomertable]([customerid] ASC, [customercode] ASC, [salespersoncode] ASC, [companyname] ASC, [companyname_length] ASC);"
            ],
            "metadata": {
                "language": "sql",
                "azdata_cell_guid": "f59558f8-3a79-4f1c-ba1a-d406d23f2fb0"
            },
            "outputs": [
                {
                    "output_type": "display_data",
                    "data": {
                        "text/html": "Commands completed successfully."
                    },
                    "metadata": {}
                },
                {
                    "output_type": "display_data",
                    "data": {
                        "text/html": "Total execution time: 00:00:00.118"
                    },
                    "metadata": {}
                }
            ],
            "execution_count": 20
        },
        {
            "cell_type": "code",
            "source": [
                "SELECT *\r\n",
                "FROM [dbo].[testcustomertable];"
            ],
            "metadata": {
                "language": "sql",
                "azdata_cell_guid": "454031ae-654a-4ca5-b96a-7b909e5c237b"
            },
            "outputs": [
                {
                    "output_type": "display_data",
                    "data": {
                        "text/html": "(2 rows affected)"
                    },
                    "metadata": {}
                },
                {
                    "output_type": "display_data",
                    "data": {
                        "text/html": "Total execution time: 00:00:00.047"
                    },
                    "metadata": {}
                },
                {
                    "output_type": "execute_result",
                    "metadata": {},
                    "execution_count": 21,
                    "data": {
                        "application/vnd.dataresource+json": {
                            "schema": {
                                "fields": [
                                    {
                                        "name": "customerid"
                                    },
                                    {
                                        "name": "customercode"
                                    },
                                    {
                                        "name": "salespersoncode"
                                    },
                                    {
                                        "name": "companyname"
                                    },
                                    {
                                        "name": "title"
                                    },
                                    {
                                        "name": "firstname"
                                    },
                                    {
                                        "name": "LastName"
                                    },
                                    {
                                        "name": "companyname_trailing_character"
                                    },
                                    {
                                        "name": "companyname_length"
                                    }
                                ]
                            },
                            "data": [
                                {
                                    "0": "1",
                                    "1": "custcode1",
                                    "2": "salescode1",
                                    "3": "companytest",
                                    "4": "titlex",
                                    "5": "testfirstname",
                                    "6": "testlastname",
                                    "7": "companytestx",
                                    "8": "11"
                                },
                                {
                                    "0": "1",
                                    "1": "custcode1",
                                    "2": "salescode1",
                                    "3": "companytest   ",
                                    "4": "titlex",
                                    "5": "testfirstname",
                                    "6": "testlastname",
                                    "7": "companytest   x",
                                    "8": "14"
                                }
                            ]
                        },
                        "text/html": [
                            "<table>",
                            "<tr><th>customerid</th><th>customercode</th><th>salespersoncode</th><th>companyname</th><th>title</th><th>firstname</th><th>LastName</th><th>companyname_trailing_character</th><th>companyname_length</th></tr>",
                            "<tr><td>1</td><td>custcode1</td><td>salescode1</td><td>companytest</td><td>titlex</td><td>testfirstname</td><td>testlastname</td><td>companytestx</td><td>11</td></tr>",
                            "<tr><td>1</td><td>custcode1</td><td>salescode1</td><td>companytest   </td><td>titlex</td><td>testfirstname</td><td>testlastname</td><td>companytest   x</td><td>14</td></tr>",
                            "</table>"
                        ]
                    }
                }
            ],
            "execution_count": 21
        }
    ]
}