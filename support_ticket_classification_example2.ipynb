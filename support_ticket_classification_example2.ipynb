{
  "cells": [
    {
      "cell_type": "code",
      "execution_count": null,
      "metadata": {
        "gather": {
          "logged": 1738168480216
        }
      },
      "outputs": [],
      "source": [
        "pip install openai"
      ]
    },
    {
      "cell_type": "code",
      "execution_count": null,
      "metadata": {
        "gather": {
          "logged": 1738168477912
        }
      },
      "outputs": [],
      "source": [
        "pip install \"instructor\""
      ]
    },
    {
      "cell_type": "code",
      "execution_count": 17,
      "metadata": {
        "gather": {
          "logged": 1738327115161
        }
      },
      "outputs": [],
      "source": [
        "# Setup\n",
        "from azure.identity import DefaultAzureCredential, get_bearer_token_provider\n",
        "import instructor\n",
        "from pydantic import BaseModel, Field\n",
        "from openai import AzureOpenAI\n",
        "from enum import Enum\n",
        "from typing import List\n",
        "\n",
        "# Using User Managed Identity client id\n",
        "# https://learn.microsoft.com/en-us/python/api/overview/azure/identity-readme?view=azure-python#managed-identity-support\n",
        "client_id = \"<client_id>\"\n",
        "\n",
        "# Azure Open AI endpoint URL\n",
        "endpoint_url = \"<endpoint_url>\""
      ]
    },
    {
      "cell_type": "markdown",
      "metadata": {
        "nteract": {
          "transient": {
            "deleting": false
          }
        }
      },
      "source": [
        "#### Simple set of Sample tickets"
      ]
    },
    {
      "cell_type": "code",
      "execution_count": 18,
      "metadata": {
        "gather": {
          "logged": 1738327116205
        }
      },
      "outputs": [],
      "source": [
        "support_ticket_1 = \"\"\"Subject: Unable to Access Work Email Account\n",
        "Description:\n",
        "Hi IT Team,\n",
        "I’ve been trying to log into my work email account since this morning and I keep getting a “password incorrect” error. I’m 100% sure I’m using the correct password. I even reset it once, and the new password doesn’t work either. Could you please check if something is wrong with my account?\n",
        "\"\"\".strip()\n",
        "\n",
        "support_ticket_2 = \"\"\"Subject: Error Message in Project Management Application\n",
        "Description:\n",
        "Hello Support,\n",
        "Every time I open the Project Management desktop app, I get an error that says “Unable to connect to server.” I’ve tried restarting my computer, and my internet connection is fine. I also tested another coworker’s laptop using my login, and it worked there. It might be specific to my machine.\"\"\".strip()\n",
        "\n",
        "support_ticket_3 = \"\"\"Subject: Frequent VPN Disconnections\n",
        "Description:\n",
        "Hello,\n",
        "My VPN connection drops randomly multiple times a day. It reconnects automatically, but it disrupts my remote desktop sessions. Is there an update or a known issue with the VPN? Could you look into possible network stability problems?\"\"\"\n",
        "\n",
        "support_ticket_4 = \"\"\"Subject: A Magic Story \n",
        "Description: A long, long time ago a little boy was walking through a park. In the middle of the park there was a tree with a sign on it. The sign said \"I am a magic tree. Say the magic words and you will see.\"\n",
        "The boy tried to guess the magic words. He tried abracadabra, supercalifragilisticexpialidocious, ta-ta-ra, and many more... but none of them worked.\"\"\"\n",
        "\n",
        "support_ticket_5 = \"\"\"Subject: Het werkt allemaal niet....\n",
        "Description: Het papier loopt weer vast. We kunnen zo echt ons werkt niet doen. Kom onmiddelijk helpen!!!!\"\"\" "
      ]
    },
    {
      "cell_type": "markdown",
      "metadata": {
        "nteract": {
          "transient": {
            "deleting": false
          }
        }
      },
      "source": [
        "#### Using an Instructor response model"
      ]
    },
    {
      "cell_type": "code",
      "execution_count": 19,
      "metadata": {
        "gather": {
          "logged": 1738327117630
        }
      },
      "outputs": [],
      "source": [
        "class TicketCategory(str, Enum):\n",
        "    SOFTWARE_ISSUES = \"Software Issues\"\n",
        "    ACCOUNT_ISSUES = \"Account Issues\"\n",
        "    HARDWARE_ISSUES = \"Hardware Issues\"\n",
        "    CONNECTIVITY_ISSUES = \"Connectivity Issues\"\n",
        "    SECURITY_ISSUES = \"Security Issues\"\n",
        "    DATA_ISSUES = \"Data Issues\"\n",
        "    OTHER = \"Other\"\n",
        "\n",
        "class CustomerSentiment(str, Enum):\n",
        "    ANGRY = \"Angry\"\n",
        "    FRUSTRATED = \"Frustrated\"\n",
        "    NEUTRAL = \"Neutral\"\n",
        "    SATISFIED = \"Satisfied\"\n",
        "    UNKNOWN = \"Unknown\"\n",
        "\n",
        "class TicketUrgency(str, Enum):\n",
        "    LOW = \"Low\"\n",
        "    MEDIUM = \"Medium\"\n",
        "    HIGH = \"High\"\n",
        "    CRITICAL = \"Critical\"\n",
        "    UNKNOWN = \"Unknown\"\n",
        "\n",
        "class TicketClassification(BaseModel):\n",
        "    category: TicketCategory\n",
        "    urgency: TicketUrgency\n",
        "    sentiment: CustomerSentiment\n",
        "    key_information: List[str] = Field(description=\"List of key points extracted from the ticket\")\n",
        "    suggested_action: str = Field(description=\"Brief suggestion for handling the ticket\")"
      ]
    },
    {
      "cell_type": "code",
      "execution_count": 20,
      "metadata": {
        "gather": {
          "logged": 1738327119515
        }
      },
      "outputs": [],
      "source": [
        "token_provider = get_bearer_token_provider(\n",
        "    DefaultAzureCredential(managed_identity_client_id=client_id), \"https://cognitiveservices.azure.com/.default\"\n",
        ")\n",
        "\n",
        "client = AzureOpenAI(\n",
        "    api_version=\"2024-08-01-preview\",\n",
        "    azure_endpoint=endpoint_url,\n",
        "    azure_ad_token_provider=token_provider\n",
        ")"
      ]
    },
    {
      "cell_type": "code",
      "execution_count": 21,
      "metadata": {
        "gather": {
          "logged": 1738327120628
        }
      },
      "outputs": [],
      "source": [
        "# https://python.useinstructor.com/\n",
        "# Patch with Instructor\n",
        "client = instructor.from_openai(client)"
      ]
    },
    {
      "cell_type": "code",
      "execution_count": 22,
      "metadata": {
        "gather": {
          "logged": 1738327121848
        }
      },
      "outputs": [],
      "source": [
        "def classify_ticket(ticket_text: str) -> TicketClassification:\n",
        "    response = client.chat.completions.create(\n",
        "        model=\"gpt-4o-mini\",\n",
        "        response_model=TicketClassification,\n",
        "        temperature=0,\n",
        "        max_retries=3,\n",
        "        messages=[\n",
        "            {\n",
        "                \"role\": \"system\",\n",
        "                \"content\": \"Analyze the following customer support ticket and extract the requested information.\"\n",
        "            },\n",
        "            {\"role\": \"user\", \"content\": ticket_text}\n",
        "        ]\n",
        "    )\n",
        "    return response"
      ]
    },
    {
      "cell_type": "code",
      "execution_count": 25,
      "metadata": {
        "gather": {
          "logged": 1738327616035
        }
      },
      "outputs": [
        {
          "name": "stdout",
          "output_type": "stream",
          "text": [
            "{\n",
            "  \"category\": \"Account Issues\",\n",
            "  \"urgency\": \"High\",\n",
            "  \"sentiment\": \"Frustrated\",\n",
            "  \"key_information\": [\n",
            "    \"User unable to log into work email account\",\n",
            "    \"Receiving 'password incorrect' error\",\n",
            "    \"User is sure they are using the correct password\",\n",
            "    \"User has reset the password but it still doesn't work\"\n",
            "  ],\n",
            "  \"suggested_action\": \"Investigate the user's account for any issues and assist with password reset if necessary.\"\n",
            "}\n",
            "{\n",
            "  \"category\": \"Connectivity Issues\",\n",
            "  \"urgency\": \"Medium\",\n",
            "  \"sentiment\": \"Frustrated\",\n",
            "  \"key_information\": [\n",
            "    \"Error message: 'Unable to connect to server'\",\n",
            "    \"Restarted computer\",\n",
            "    \"Internet connection is fine\",\n",
            "    \"Tested on coworker's laptop with successful login\",\n",
            "    \"Issue might be specific to the user's machine\"\n",
            "  ],\n",
            "  \"suggested_action\": \"Investigate the user's machine for connectivity issues or application settings.\"\n",
            "}\n",
            "{\n",
            "  \"category\": \"Connectivity Issues\",\n",
            "  \"urgency\": \"Medium\",\n",
            "  \"sentiment\": \"Frustrated\",\n",
            "  \"key_information\": [\n",
            "    \"VPN connection drops randomly multiple times a day\",\n",
            "    \"Reconnection happens automatically\",\n",
            "    \"Disrupts remote desktop sessions\",\n",
            "    \"Request for update or known issue with VPN\",\n",
            "    \"Inquiry about possible network stability problems\"\n",
            "  ],\n",
            "  \"suggested_action\": \"Investigate the VPN connection stability and check for any known issues or updates.\"\n",
            "}\n",
            "{\n",
            " \"category\": \"Other\",\n",
            " \"urgency\": \"Low\",\n",
            " \"sentiment\": \"Neutral\",\n",
            " \"key_information\": [\n",
            "  \"A story about a little boy in a park\",\n",
            "  \"A magic tree with a sign\",\n",
            "  \"The boy tries to guess magic words\"\n",
            " ],\n",
            " \"suggested_action\": \"Consider providing feedback or suggestions for the story.\"\n",
            "}\n",
            "{\n",
            "  \"category\": \"Hardware Issues\",\n",
            "  \"urgency\": \"High\",\n",
            "  \"sentiment\": \"Angry\",\n",
            "  \"key_information\": [\n",
            "    \"Papier loopt vast\",\n",
            "    \"Werken niet kunnen doen\",\n",
            "    \"Hulp gevraagd\"\n",
            "  ],\n",
            "  \"suggested_action\": \"Send a technician to resolve the paper jam issue immediately.\"\n",
            "}\n"
          ]
        }
      ],
      "source": [
        "result1 = classify_ticket(support_ticket_1)\n",
        "result2 = classify_ticket(support_ticket_2)\n",
        "result3 = classify_ticket(support_ticket_3)\n",
        "result4 = classify_ticket(support_ticket_4)\n",
        "result5 = classify_ticket(support_ticket_5)\n",
        "\n",
        "print(result1.model_dump_json(indent=2))\n",
        "print(result2.model_dump_json(indent=2))\n",
        "print(result3.model_dump_json(indent=2))\n",
        "print(result4.model_dump_json(indent=1))\n",
        "print(result5.model_dump_json(indent=2))"
      ]
    }
  ],
  "metadata": {
    "kernel_info": {
      "name": "python310-sdkv2"
    },
    "kernelspec": {
      "display_name": "Python 3.10 - SDK v2",
      "language": "python",
      "name": "python310-sdkv2"
    },
    "language_info": {
      "codemirror_mode": {
        "name": "ipython",
        "version": 3
      },
      "file_extension": ".py",
      "mimetype": "text/x-python",
      "name": "python",
      "nbconvert_exporter": "python",
      "pygments_lexer": "ipython3",
      "version": "3.10.14"
    },
    "microsoft": {
      "host": {
        "AzureML": {
          "notebookHasBeenCompleted": true
        }
      },
      "ms_spell_check": {
        "ms_spell_check_language": "en"
      }
    },
    "nteract": {
      "version": "nteract-front-end@1.0.0"
    }
  },
  "nbformat": 4,
  "nbformat_minor": 2
}
